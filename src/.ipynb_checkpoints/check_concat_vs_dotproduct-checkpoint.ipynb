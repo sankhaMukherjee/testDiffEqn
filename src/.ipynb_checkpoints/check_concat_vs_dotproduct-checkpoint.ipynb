{
 "cells": [
  {
   "cell_type": "code",
   "execution_count": 1,
   "metadata": {},
   "outputs": [],
   "source": [
    "import numpy as np\n",
    "import time\n",
    "from tqdm import tqdm"
   ]
  },
  {
   "cell_type": "code",
   "execution_count": 2,
   "metadata": {},
   "outputs": [],
   "source": [
    "def simulate(n):\n",
    "    \n",
    "    bigMatrix    = np.random.random(size=(1000, 100))\n",
    "    eyeMatrix    = np.eye(N=100)\n",
    "    bigZeros     = np.zeros(shape=(1000, 100))\n",
    "    zerosPadding = np.zeros(shape=(100, 100 * n))\n",
    "    upSizeMatrix = np.concatenate([eyeMatrix, zerosPadding], axis=1)\n",
    "\n",
    "    start = time.time()\n",
    "    for i in range(10):\n",
    "        jumboMatrix = np.concatenate([bigMatrix] + [bigZeros] * n, axis=1)\n",
    "    timespent1 = time.time() - start\n",
    "\n",
    "\n",
    "    start = time.time()\n",
    "    for i in range(10):\n",
    "        jumboMatrix = np.dot(bigMatrix, upSizeMatrix)\n",
    "    timespent2 = time.time() - start\n",
    "\n",
    "    print(n, timespent1, timespent2)"
   ]
  },
  {
   "cell_type": "code",
   "execution_count": 3,
   "metadata": {},
   "outputs": [
    {
     "name": "stdout",
     "output_type": "stream",
     "text": [
      "2 0.005166769027709961 0.005738496780395508\n",
      "5 0.010126113891601562 0.009957313537597656\n",
      "10 0.01968979835510254 0.019821882247924805\n",
      "50 0.1508471965789795 0.23050642013549805\n",
      "100 0.2946748733520508 0.4547688961029053\n"
     ]
    }
   ],
   "source": [
    "for n in [2, 5, 10, 50, 100]:\n",
    "    simulate(n)"
   ]
  }
 ],
 "metadata": {
  "kernelspec": {
   "display_name": "Python 3",
   "language": "python",
   "name": "python3"
  },
  "language_info": {
   "codemirror_mode": {
    "name": "ipython",
    "version": 3
   },
   "file_extension": ".py",
   "mimetype": "text/x-python",
   "name": "python",
   "nbconvert_exporter": "python",
   "pygments_lexer": "ipython3",
   "version": "3.6.0"
  }
 },
 "nbformat": 4,
 "nbformat_minor": 2
}
