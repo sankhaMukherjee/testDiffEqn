{
 "cells": [
  {
   "cell_type": "code",
   "execution_count": 1,
   "metadata": {},
   "outputs": [],
   "source": [
    "import os\n",
    "\n",
    "import tensorflow as tf\n",
    "import numpy as np\n",
    "from scipy.integrate import odeint\n",
    "import time\n",
    "\n",
    "from tensorflow.python.client import timeline\n",
    "\n",
    "os.environ[\"CUDA_VISIBLE_DEVICES\"] = \"0\""
   ]
  },
  {
   "cell_type": "code",
   "execution_count": 2,
   "metadata": {},
   "outputs": [],
   "source": [
    "def run_simulation(nUser):\n",
    "    '''\n",
    "    Given nUser, create graph for running nUser for-loop, while computing 250 x 250 matrix multiplication for 100\n",
    "    times in each User for-loop. \n",
    "    '''\n",
    "\n",
    "    tf.reset_default_graph()\n",
    "    start        = time.time()\n",
    "    \n",
    "    options      = tf.RunOptions(trace_level=tf.RunOptions.FULL_TRACE)\n",
    "    run_metadata = tf.RunMetadata()\n",
    "\n",
    "    with tf.device('/device:GPU:0'):\n",
    "\n",
    "        bigMatrix = tf.Variable(np.random.random(size=(250, 250)), dtype=tf.float32, name='bigMatrix')\n",
    "        outputls  = []\n",
    "        \n",
    "        someVar = tf.Variable(np.ones(shape=(250,250)), dtype=tf.float32, name='Result')\n",
    "\n",
    "        def func(bigMatrix, user):\n",
    "            \n",
    "            with tf.variable_scope('user{:05}'.format(user)):\n",
    "                with tf.variable_scope('matrix_multiplication'):\n",
    "                    for i in range(100):\n",
    "                        if i == 0:\n",
    "                            output = tf.sigmoid(bigMatrix * bigMatrix)\n",
    "                        else:\n",
    "                            output = tf.sigmoid(output * bigMatrix)\n",
    "\n",
    "            return output\n",
    "        \n",
    "        for user in range(nUser):\n",
    "            outputls.append(func(bigMatrix, user))\n",
    "        result   = tf.reduce_mean(tf.concat(outputls, axis=0), axis=0)\n",
    "        init     = tf.global_variables_initializer()\n",
    "    \n",
    "    Graphtime = time.time() - start\n",
    "    config    = tf.ConfigProto(gpu_options={'allow_growth':True})\n",
    "    sess      = tf.Session(config=config)\n",
    "    sess.run( init )\n",
    "    tfwriter  = tf.summary.FileWriter('./tensorlog/simulation_yesterday_withAppend/nUser{}/'.format(nUser), sess.graph)\n",
    "    tfwriter.close()\n",
    "\n",
    "    def rhs(y, t):\n",
    "\n",
    "        _ = sess.run(result, options=options, run_metadata=run_metadata)     ### fetch outputls instead of output\n",
    "        \n",
    "        return -y\n",
    "\n",
    "    y0        = 1.0\n",
    "    tspan     = np.linspace(0, 100, 101)\n",
    "\n",
    "    start     = time.time()\n",
    "    y         = odeint(rhs, y0, tspan)\n",
    "    ODEtime   = time.time() - start\n",
    "    \n",
    "    fetched_timeline = timeline.Timeline(run_metadata.step_stats)\n",
    "    chrome_trace     = fetched_timeline.generate_chrome_trace_format()\n",
    "\n",
    "    with open('timeline_step_[user_{}].json'.format(nUser), 'w') as f:\n",
    "        f.write(chrome_trace)\n",
    "    \n",
    "    sess.close()\n",
    "\n",
    "    return (Graphtime, ODEtime)"
   ]
  },
  {
   "cell_type": "code",
   "execution_count": 3,
   "metadata": {},
   "outputs": [
    {
     "name": "stdout",
     "output_type": "stream",
     "text": [
      "1, 0.13021445274353027, 2.350713014602661\n",
      "10, 1.2678687572479248, 2.3734829425811768\n",
      "1000, 118.88250637054443, 14.189640760421753\n"
     ]
    }
   ],
   "source": [
    "nUser_list = [1, 10, 1000]\n",
    "\n",
    "for n in nUser_list:\n",
    "    Graphtime, ODEtime = run_simulation(n)\n",
    "    print('{}, {}, {}'.format(n, Graphtime, ODEtime))"
   ]
  }
 ],
 "metadata": {
  "kernelspec": {
   "display_name": "Python 3",
   "language": "python",
   "name": "python3"
  },
  "language_info": {
   "codemirror_mode": {
    "name": "ipython",
    "version": 3
   },
   "file_extension": ".py",
   "mimetype": "text/x-python",
   "name": "python",
   "nbconvert_exporter": "python",
   "pygments_lexer": "ipython3",
   "version": "3.6.0"
  }
 },
 "nbformat": 4,
 "nbformat_minor": 2
}
