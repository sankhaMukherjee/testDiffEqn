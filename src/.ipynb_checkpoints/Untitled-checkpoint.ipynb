{
 "cells": [
  {
   "cell_type": "code",
   "execution_count": 1,
   "metadata": {},
   "outputs": [],
   "source": [
    "import tensorflow as tf\n",
    "import numpy as np\n",
    "\n",
    "import time"
   ]
  },
  {
   "cell_type": "code",
   "execution_count": 2,
   "metadata": {},
   "outputs": [],
   "source": [
    "def run(concatMatrix=True):\n",
    "    \n",
    "    m1 = tf.placeholder(dtype=tf.float32, name='m1')\n",
    "\n",
    "    if concatMatrix:\n",
    "        m2     = tf.Variable(np.zeros(shape=(10, 2)), dtype=tf.float32, name='m2')\n",
    "        result = tf.concat([m1, m2], axis=1)\n",
    "    else:\n",
    "        eyeMatrix    = tf.Variable(np.eye(N=2), dtype=tf.float32, name='eye')\n",
    "        zerosMatrix  = tf.Variable(np.zeros(shape=(2,2)), dtype=tf.float32, name='zeros')\n",
    "        upSizeMatrix = tf.concat([eyeMatrix, zerosMatrix], axis=1)\n",
    "\n",
    "        result       = tf.matmul(m1, upSizeMatrix)\n",
    "\n",
    "    init = tf.global_variables_initializer()\n",
    "    sess = tf.Session()\n",
    "    sess.run( init )\n",
    "\n",
    "    input_data = np.zeros(shape=(10, 2)) + 1\n",
    "    \n",
    "    start = time.time()\n",
    "    for i in range(100):\n",
    "        output = sess.run( result, feed_dict={\n",
    "                                m1 : input_data\n",
    "                        })\n",
    "    timespent = time.time() - start\n",
    "    print(timespent)"
   ]
  },
  {
   "cell_type": "code",
   "execution_count": 3,
   "metadata": {},
   "outputs": [
    {
     "name": "stdout",
     "output_type": "stream",
     "text": [
      "0.04521012306213379\n"
     ]
    }
   ],
   "source": [
    "run(concatMatrix=True)"
   ]
  },
  {
   "cell_type": "code",
   "execution_count": 4,
   "metadata": {},
   "outputs": [
    {
     "name": "stdout",
     "output_type": "stream",
     "text": [
      "0.17841506004333496\n"
     ]
    }
   ],
   "source": [
    "run(concatMatrix=False)"
   ]
  }
 ],
 "metadata": {
  "kernelspec": {
   "display_name": "Python 3",
   "language": "python",
   "name": "python3"
  },
  "language_info": {
   "codemirror_mode": {
    "name": "ipython",
    "version": 3
   },
   "file_extension": ".py",
   "mimetype": "text/x-python",
   "name": "python",
   "nbconvert_exporter": "python",
   "pygments_lexer": "ipython3",
   "version": "3.6.0"
  }
 },
 "nbformat": 4,
 "nbformat_minor": 2
}
