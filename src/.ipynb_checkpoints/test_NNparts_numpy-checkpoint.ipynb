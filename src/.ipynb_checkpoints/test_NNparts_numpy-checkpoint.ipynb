{
 "cells": [
  {
   "cell_type": "code",
   "execution_count": 1,
   "metadata": {},
   "outputs": [],
   "source": [
    "import os\n",
    "\n",
    "import tensorflow as tf\n",
    "import numpy as np\n",
    "from scipy.integrate import odeint\n",
    "from scipy.interpolate import interp1d\n",
    "\n",
    "import time"
   ]
  },
  {
   "cell_type": "code",
   "execution_count": 2,
   "metadata": {},
   "outputs": [],
   "source": [
    "def odeSolve(nPat):\n",
    "\n",
    "    Atimesj  = []\n",
    "    Btimesj  = []\n",
    "    tspan    = np.linspace(0, 100, 101)\n",
    "\n",
    "    for i in range(nPat):\n",
    "        tmp_doseA, tmp_doseB   = np.zeros(shape=tspan.shape), np.zeros(shape=tspan.shape)\n",
    "\n",
    "        for trange, dose in [ ([  5, 15],    3 ),\n",
    "                              ([ 35, 50],   35 ),\n",
    "                              ([ 50, 60],    3 ),\n",
    "                              ([ 60, 75],  300 ),\n",
    "                              ([ 75, 80],  7.6 ) ]:\n",
    "            twindow            = range(trange[0], trange[1] + 1)\n",
    "            tmp_doseA[twindow] = dose\n",
    "\n",
    "        for trange, dose in [ ([  5, 15], 70   ),\n",
    "                              ([ 35, 50], 12.5 ),\n",
    "                              ([ 75, 80], 7.6  ) ]:\n",
    "            twindow            = range(trange[0], trange[1] + 1)\n",
    "            tmp_doseB[twindow] = dose   \n",
    "\n",
    "        Atimesj.append(tmp_doseA)\n",
    "        Btimesj.append(tmp_doseB)\n",
    "\n",
    "    Atimesj     = np.array(Atimesj).reshape(nPat, -1)\n",
    "    Btimesj     = np.array(Btimesj).reshape(nPat, -1)\n",
    "\n",
    "    AjInterp    = [interp1d(tspan, a_vec, bounds_error=False, fill_value=(a_vec[0], a_vec[-1])) for a_vec in Atimesj]\n",
    "    BjInterp    = [interp1d(tspan, b_vec, bounds_error=False, fill_value=(b_vec[0], b_vec[-1])) for b_vec in Btimesj]\n",
    "    \n",
    "    fj          = np.hstack([np.array([12 , 7, 15 ])] * nPat).reshape(nPat, -1)\n",
    "    rj          = np.hstack([np.array([6  , 3,  8 ])] * nPat).reshape(nPat, -1)\n",
    "    mj          = np.hstack([np.array([10 , 17, 2 ])] * nPat).reshape(nPat, -1)\n",
    "        \n",
    "    def rhs(y, t, fj, rj, mj):\n",
    "\n",
    "        try:\n",
    "            Nnt      = np.array(y).reshape(nPat, -1)\n",
    "#             Aj       = np.array([interp(t) for interp in AjInterp]).reshape(nPat, -1)\n",
    "#             Bj       = np.array([interp(t) for interp in BjInterp]).reshape(nPat, -1)\n",
    "            \n",
    "#             results  = fj - rj * Nnt / (1 + Aj) - mj * Nnt / (1 + Bj)\n",
    "            results  = fj - rj * Nnt - mj * Nnt\n",
    "            results  = results.flatten()\n",
    "  \n",
    "            return results\n",
    "\n",
    "        except Exception as e:\n",
    "            print(t, str(e))\n",
    "\n",
    "        return rhs_results\n",
    "        \n",
    "    args      = (fj, rj, mj)\n",
    "    \n",
    "#     start       = time.time()\n",
    "#     Aj_t        = np.array([interp(1.231) for interp in AjInterp]).reshape(nPat, -1)\n",
    "#     timeCost_Aj = time.time() - start\n",
    "        \n",
    "    start     = time.time()\n",
    "    y, report = odeint(rhs, y0=np.array([1, 1, 1] * nPat), t=np.linspace(0, 100, 101), args=args, full_output=True)\n",
    "    timeCost  = time.time() - start\n",
    "    \n",
    "    return y, timeCost, report"
   ]
  },
  {
   "cell_type": "code",
   "execution_count": 3,
   "metadata": {},
   "outputs": [
    {
     "name": "stdout",
     "output_type": "stream",
     "text": [
      "120 249 4\n",
      "N 1 timeCost 0.002711772918701172 per User 0.002711772918701172\n",
      "120 357 4\n",
      "N 10 timeCost 0.005485057830810547 per User 0.0005485057830810547\n",
      "120 1437 4\n",
      "N 100 timeCost 0.023775100708007812 per User 0.00023775100708007814\n",
      "120 12237 4\n",
      "N 1000 timeCost 1.2202341556549072 per User 0.0012202341556549073\n"
     ]
    }
   ],
   "source": [
    "for n in [1, 10, 100, 1000]:\n",
    "    y, timeCost, report = odeSolve(nPat=n)\n",
    "    print(report['nst'][-1], report['nfe'][-1], report['nje'][-1])\n",
    "    print('N', n, 'timeCost', timeCost, 'per User', timeCost / n)"
   ]
  }
 ],
 "metadata": {
  "kernelspec": {
   "display_name": "Python 3",
   "language": "python",
   "name": "python3"
  },
  "language_info": {
   "codemirror_mode": {
    "name": "ipython",
    "version": 3
   },
   "file_extension": ".py",
   "mimetype": "text/x-python",
   "name": "python",
   "nbconvert_exporter": "python",
   "pygments_lexer": "ipython3",
   "version": "3.6.0"
  }
 },
 "nbformat": 4,
 "nbformat_minor": 2
}
