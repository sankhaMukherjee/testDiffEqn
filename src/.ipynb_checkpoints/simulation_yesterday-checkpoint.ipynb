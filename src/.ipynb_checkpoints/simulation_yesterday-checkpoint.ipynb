{
 "cells": [
  {
   "cell_type": "code",
   "execution_count": 1,
   "metadata": {},
   "outputs": [],
   "source": [
    "import os\n",
    "\n",
    "import tensorflow as tf\n",
    "import numpy as np\n",
    "from scipy.integrate import odeint\n",
    "\n",
    "import time\n",
    "from tqdm import tqdm\n",
    "\n",
    "os.environ[\"CUDA_VISIBLE_DEVICES\"] = \"0\""
   ]
  },
  {
   "cell_type": "markdown",
   "metadata": {},
   "source": [
    "Simulation that was run yesterday with nUser varied from 1 to 1000, expensive matrix multiplication (250 x 250 matrix, run 100 times) is inside tensorflow graph which will be called by odeint solver each dt step. <br>\n",
    "<br>\n",
    "To test if GPU operation can be scaled according to nUser.  <br>\n",
    "<br>\n",
    "Tensorflow is believed to have skipped `n-1 users for-loop` and only calculate `nth user operation`."
   ]
  },
  {
   "cell_type": "code",
   "execution_count": 2,
   "metadata": {},
   "outputs": [],
   "source": [
    "def run_simulation(nUser):\n",
    "    '''\n",
    "    Given nUser, create graph for running nUser for-loop, while computing 250 x 250 matrix multiplication for 100\n",
    "    times in each User for-loop. \n",
    "    '''\n",
    "\n",
    "    tf.reset_default_graph()\n",
    "    start        = time.time()\n",
    "\n",
    "    with tf.device('/device:GPU:0'):\n",
    "\n",
    "        bigMatrix = tf.Variable(np.random.random(size=(250, 250)), dtype=tf.float32, name='bigMatrix')\n",
    "        outputls  = []\n",
    "\n",
    "        for user in range(nUser):\n",
    "            with tf.variable_scope('user{:05}'.format(user)):\n",
    "                with tf.variable_scope('matrix_multiplication'):\n",
    "                    for i in range(100):\n",
    "                        if i == 0:\n",
    "                            output = tf.sigmoid(bigMatrix * bigMatrix)\n",
    "                        else:\n",
    "                            output = tf.sigmoid(output * bigMatrix)\n",
    "            \n",
    "        init     = tf.global_variables_initializer()\n",
    "    \n",
    "    Graphtime = time.time() - start\n",
    "    config    = tf.ConfigProto(gpu_options={'allow_growth':True})\n",
    "    sess      = tf.Session(config=config)\n",
    "    sess.run( init )\n",
    "    tfwriter  = tf.summary.FileWriter('./tensorlog/simulation_yesterday/nUser{}/'.format(nUser), sess.graph)\n",
    "    tfwriter.close()\n",
    "\n",
    "    def rhs(y, t):\n",
    "\n",
    "        _ = sess.run(output)\n",
    "        \n",
    "        return -y\n",
    "\n",
    "    y0        = 1.0\n",
    "    tspan     = np.linspace(0, 100, 101)\n",
    "\n",
    "    start     = time.time()\n",
    "    y         = odeint(rhs, y0, tspan)\n",
    "    ODEtime   = time.time() - start\n",
    "    \n",
    "    sess.close()\n",
    "\n",
    "    return (Graphtime, ODEtime)"
   ]
  },
  {
   "cell_type": "code",
   "execution_count": 3,
   "metadata": {},
   "outputs": [
    {
     "name": "stderr",
     "output_type": "stream",
     "text": [
      "100%|██████████| 4/4 [02:37<00:00, 45.71s/it]"
     ]
    },
    {
     "name": "stdout",
     "output_type": "stream",
     "text": [
      "------------------------------\n",
      "dictionary --> {  nUser: (graphTime, odeTime)  }\n",
      "\n",
      "{1: (0.09713935852050781, 0.3777029514312744), 10: (0.9283463954925537, 0.4873085021972656), 100: (9.011714458465576, 0.5390200614929199), 1000: (89.70443367958069, 1.1962699890136719)}\n"
     ]
    },
    {
     "name": "stderr",
     "output_type": "stream",
     "text": [
      "\n"
     ]
    }
   ],
   "source": [
    "nUser_list = [1, 10, 100, 1000]\n",
    "timespent  = [run_simulation(n) for n in tqdm(nUser_list)]\n",
    "\n",
    "time_dict  = dict(zip(nUser_list, timespent))\n",
    "\n",
    "print('-' * 30)\n",
    "print('dictionary --> {  nUser: (graphTime, odeTime)  }')\n",
    "print('')\n",
    "print(time_dict)"
   ]
  }
 ],
 "metadata": {
  "kernelspec": {
   "display_name": "Python 3",
   "language": "python",
   "name": "python3"
  },
  "language_info": {
   "codemirror_mode": {
    "name": "ipython",
    "version": 3
   },
   "file_extension": ".py",
   "mimetype": "text/x-python",
   "name": "python",
   "nbconvert_exporter": "python",
   "pygments_lexer": "ipython3",
   "version": "3.6.0"
  }
 },
 "nbformat": 4,
 "nbformat_minor": 2
}
