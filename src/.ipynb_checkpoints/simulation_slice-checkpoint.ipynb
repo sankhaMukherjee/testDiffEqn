{
 "cells": [
  {
   "cell_type": "code",
   "execution_count": 1,
   "metadata": {},
   "outputs": [],
   "source": [
    "import os\n",
    "\n",
    "import tensorflow as tf\n",
    "import numpy as np\n",
    "from scipy.integrate import odeint\n",
    "import time\n",
    "\n",
    "os.environ[\"CUDA_VISIBLE_DEVICES\"] = \"0\""
   ]
  },
  {
   "cell_type": "markdown",
   "metadata": {},
   "source": [
    "Simulation to test nUser varied from 1 to 100, expensive matrix multiplication (250 x 250 matrix, run 100 times) is inside tensorflow graph which will be called by odeint solver each dt step. <br>\n",
    "<br>\n",
    "In this time, each 250 x 250 small matrix is extracted by slicing from big matrix created in shape: (250 * nUser, 250)  <br>\n",
    "Each user has different 250 x 250 matrix to begin with. <br>\n",
    "<br>\n",
    "To test if GPU operation can be scaled according to nUser.  <br>\n",
    "<br>\n",
    "Tensorflow has to run `n for-loop` and return outputls which is list of output from each user"
   ]
  },
  {
   "cell_type": "code",
   "execution_count": 2,
   "metadata": {},
   "outputs": [],
   "source": [
    "def run_simulation(nUser):\n",
    "    '''\n",
    "    Given nUser, create graph for running nUser for-loop, while computing 250 x 250 matrix multiplication for 100\n",
    "    times in each User for-loop. \n",
    "    '''\n",
    "\n",
    "    tf.reset_default_graph()\n",
    "    start        = time.time()\n",
    "\n",
    "    with tf.device('/device:GPU:0'):\n",
    "\n",
    "        bigMatrix = tf.Variable(np.random.random(size=(250 * nUser, 250)), dtype=tf.float32, name='bigMatrix')\n",
    "        \n",
    "        def func(bigMatrix, user):\n",
    "            with tf.variable_scope('user{:05}'.format(user)):\n",
    "                with tf.variable_scope('matrix_multiplication'):\n",
    "                    smallMatrix = bigMatrix[(250*user):(250*user+250), :]\n",
    "                    \n",
    "                    for i in range(100):\n",
    "                        if i == 0:\n",
    "                            output = tf.sigmoid(smallMatrix * smallMatrix)\n",
    "                        else:\n",
    "                            output = tf.sigmoid(output * smallMatrix)\n",
    "            \n",
    "            return output\n",
    "\n",
    "        outputls = [func(bigMatrix, user) for user in range(nUser)]\n",
    "        result   = tf.reduce_mean(tf.concat(outputls, axis=0), axis=0)\n",
    "        init     = tf.global_variables_initializer()\n",
    "    \n",
    "    Graphtime = time.time() - start\n",
    "    config    = tf.ConfigProto(gpu_options={'allow_growth':True})\n",
    "    sess      = tf.Session(config=config)\n",
    "    sess.run( init )\n",
    "    tfwriter  = tf.summary.FileWriter('./tensorlog/simulation_slice/nUser{}/'.format(nUser), sess.graph)\n",
    "    tfwriter.close()\n",
    "\n",
    "    def rhs(y, t):\n",
    "\n",
    "        _ = sess.run(result)\n",
    "        \n",
    "        return -y\n",
    "\n",
    "    y0        = 1.0\n",
    "    tspan     = np.linspace(0, 100, 101)\n",
    "\n",
    "    start     = time.time()\n",
    "    y         = odeint(rhs, y0, tspan)\n",
    "    ODEtime   = time.time() - start\n",
    "    \n",
    "    sess.close()\n",
    "\n",
    "    return (Graphtime, ODEtime)"
   ]
  },
  {
   "cell_type": "code",
   "execution_count": 3,
   "metadata": {},
   "outputs": [
    {
     "name": "stdout",
     "output_type": "stream",
     "text": [
      "1, 0.1308605670928955, 0.4203524589538574\n",
      "10, 1.254892349243164, 2.8384456634521484\n",
      "1000, 123.94565439224243, 284.97401118278503\n"
     ]
    }
   ],
   "source": [
    "nUser_list = [1, 10, 1000]\n",
    "\n",
    "for n in nUser_list:\n",
    "    Graphtime, ODEtime = run_simulation(n)\n",
    "    print('{}, {}, {}'.format(n, Graphtime, ODEtime))"
   ]
  }
 ],
 "metadata": {
  "kernelspec": {
   "display_name": "Python 3",
   "language": "python",
   "name": "python3"
  },
  "language_info": {
   "codemirror_mode": {
    "name": "ipython",
    "version": 3
   },
   "file_extension": ".py",
   "mimetype": "text/x-python",
   "name": "python",
   "nbconvert_exporter": "python",
   "pygments_lexer": "ipython3",
   "version": "3.6.0"
  }
 },
 "nbformat": 4,
 "nbformat_minor": 2
}
