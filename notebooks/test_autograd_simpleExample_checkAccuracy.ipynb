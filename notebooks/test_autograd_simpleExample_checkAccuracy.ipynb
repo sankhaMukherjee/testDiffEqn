{
 "cells": [
  {
   "cell_type": "code",
   "execution_count": 1,
   "metadata": {},
   "outputs": [],
   "source": [
    "import autograd.numpy as np\n",
    "from autograd import grad\n",
    "from autograd.scipy.integrate import odeint\n",
    "from autograd.builtins import tuple\n",
    "from autograd.misc.optimizers import adam\n",
    "\n",
    "import matplotlib.pyplot as plt\n",
    "from IPython import display\n",
    "%matplotlib inline  \n",
    "\n",
    "import time\n",
    "from tqdm import tqdm"
   ]
  },
  {
   "cell_type": "code",
   "execution_count": 2,
   "metadata": {},
   "outputs": [],
   "source": [
    "def rhs(y, t, params): \n",
    "    u, v, w = params\n",
    "    return -y + np.square(0.3 - u) + np.square(-0.2 + v) + np.square(0.7 - w)"
   ]
  },
  {
   "cell_type": "code",
   "execution_count": 3,
   "metadata": {},
   "outputs": [],
   "source": [
    "trueParams = (0.3, 0.2, 0.7)\n",
    "tspan      = np.linspace(0, 100, 101) / 20\n",
    "true_y     = odeint(rhs, y0=3, t=tspan, args=(trueParams, ))"
   ]
  },
  {
   "cell_type": "code",
   "execution_count": 4,
   "metadata": {},
   "outputs": [],
   "source": [
    "initParams = (0.0, 0.0, 0.0)\n",
    "pred_y     = odeint(rhs, y0=3, t=tspan, args=(initParams, ))"
   ]
  },
  {
   "cell_type": "code",
   "execution_count": 5,
   "metadata": {
    "scrolled": true
   },
   "outputs": [
    {
     "data": {
      "text/plain": [
       "[<matplotlib.lines.Line2D at 0x112068978>]"
      ]
     },
     "execution_count": 5,
     "metadata": {},
     "output_type": "execute_result"
    },
    {
     "data": {
      "image/png": "[encoded data removed]",
      "text/plain": [
       "<matplotlib.figure.Figure at 0x112068898>"
      ]
     },
     "metadata": {},
     "output_type": "display_data"
    }
   ],
   "source": [
    "plt.plot(tspan, true_y, 'b-')\n",
    "plt.plot(tspan, pred_y, 'r-')"
   ]
  },
  {
   "cell_type": "code",
   "execution_count": 6,
   "metadata": {},
   "outputs": [],
   "source": [
    "def odeloss(params, epoch):\n",
    "    pred_y = odeint(rhs, 3, tspan, tuple((params, )))\n",
    "    return np.square(true_y - pred_y).mean()"
   ]
  },
  {
   "cell_type": "code",
   "execution_count": 7,
   "metadata": {},
   "outputs": [
    {
     "name": "stderr",
     "output_type": "stream",
     "text": [
      "\r",
      "  0%|          | 0/100 [00:00<?, ?it/s]"
     ]
    }
   ],
   "source": [
    "nIterations = 100\n",
    "pbar        = tqdm(range(nIterations))\n",
    "\n",
    "def callback(params, epoch, gradients):\n",
    "    pred_y    = odeint(rhs, 3, tspan, tuple((params, )))\n",
    "    trainloss = np.square(true_y - pred_y).mean()\n",
    "    \n",
    "    params    = [round(float(p), 5) for p in params]\n",
    "    \n",
    "    pbar.set_description('trainloss: {:.5f} | params: {}'.format(trainloss, params))\n",
    "    pbar.update(1)"
   ]
  },
  {
   "cell_type": "code",
   "execution_count": 8,
   "metadata": {
    "scrolled": true
   },
   "outputs": [
    {
     "name": "stdout",
     "output_type": "stream",
     "text": [
      "trueParams (0.3, 0.2, 0.7)\n"
     ]
    },
    {
     "name": "stderr",
     "output_type": "stream",
     "text": [
      "trainloss: 0.00260 | params: [0.29895, 0.20383, 0.45318]: 100%|██████████| 100/100 [03:05<00:00,  1.85s/it]"
     ]
    }
   ],
   "source": [
    "print('trueParams', trueParams)\n",
    "optParams = adam(grad(odeloss), initParams, num_iters=nIterations, callback=callback, step_size=0.01)"
   ]
  },
  {
   "cell_type": "code",
   "execution_count": 9,
   "metadata": {},
   "outputs": [],
   "source": [
    "pred_y     = odeint(rhs, y0=3, t=tspan, args=(optParams, ))"
   ]
  },
  {
   "cell_type": "code",
   "execution_count": 10,
   "metadata": {},
   "outputs": [
    {
     "data": {
      "text/plain": [
       "[<matplotlib.lines.Line2D at 0x1159e4b38>]"
      ]
     },
     "execution_count": 10,
     "metadata": {},
     "output_type": "execute_result"
    },
    {
     "data": {
      "image/png": "[encoded data removed]",
      "text/plain": [
       "<matplotlib.figure.Figure at 0x1159e44a8>"
      ]
     },
     "metadata": {},
     "output_type": "display_data"
    }
   ],
   "source": [
    "plt.close('all')\n",
    "plt.plot(tspan, true_y, 'b-')\n",
    "plt.plot(tspan, pred_y, 'r-')"
   ]
  }
 ],
 "metadata": {
  "kernelspec": {
   "display_name": "Python 3",
   "language": "python",
   "name": "python3"
  },
  "language_info": {
   "codemirror_mode": {
    "name": "ipython",
    "version": 3
   },
   "file_extension": ".py",
   "mimetype": "text/x-python",
   "name": "python",
   "nbconvert_exporter": "python",
   "pygments_lexer": "ipython3",
   "version": "3.6.4"
  }
 },
 "nbformat": 4,
 "nbformat_minor": 2
}
