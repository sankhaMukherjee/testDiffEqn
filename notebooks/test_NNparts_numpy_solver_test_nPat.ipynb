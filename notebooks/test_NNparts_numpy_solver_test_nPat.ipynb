{
 "cells": [
  {
   "cell_type": "code",
   "execution_count": 1,
   "metadata": {},
   "outputs": [],
   "source": [
    "import os\n",
    "\n",
    "import tensorflow as tf\n",
    "import numpy as npo\n",
    "\n",
    "import autograd.numpy as np\n",
    "from autograd import grad\n",
    "from autograd.scipy.integrate import odeint\n",
    "from autograd.builtins import tuple\n",
    "from autograd.misc.optimizers import adam\n",
    "\n",
    "# from scipy.integrate import odeint\n",
    "# from scipy.interpolate import interp1d\n",
    "\n",
    "import time\n",
    "from tqdm import tqdm"
   ]
  },
  {
   "cell_type": "code",
   "execution_count": 2,
   "metadata": {},
   "outputs": [],
   "source": [
    "def solveODE(nPat):\n",
    "    \n",
    "    fj          = np.hstack([np.array([12 , 7, 15 ])] * nPat).reshape(nPat, -1).astype(np.float32)\n",
    "    rj          = np.hstack([np.array([6  , 3,  8 ])] * nPat).reshape(nPat, -1).astype(np.float32)\n",
    "    mj          = np.hstack([np.array([10 , 17, 2 ])] * nPat).reshape(nPat, -1).astype(np.float32)\n",
    "\n",
    "    def rhs(y, t, params):\n",
    "\n",
    "        fj, rj, mj = params\n",
    "\n",
    "        Nnt      = np.array(y).reshape(nPat, -1)\n",
    "        results  = fj - rj * Nnt - mj * Nnt\n",
    "        results  = results.flatten()\n",
    "\n",
    "        return results\n",
    "\n",
    "    params    = [fj, rj, mj]\n",
    "\n",
    "    start     = time.time()\n",
    "    true_y    = odeint(rhs, y0=np.array([1, 1, 1] * nPat), t=np.linspace(0, 100, 101), args=(params,))\n",
    "    ODEcost   = time.time() - start\n",
    "    \n",
    "    def loss(params, iterations):\n",
    "        pred_y   = odeint(rhs, np.array([1, 1, 1] * nPat), np.linspace(0, 100, 101), tuple((params,)))\n",
    "        return np.square(true_y - pred_y).mean()\n",
    "    \n",
    "    init_params = [ np.hstack([np.zeros(shape=(3,))] * nPat).reshape(nPat, -1).astype(np.float32), \n",
    "                    np.hstack([np.zeros(shape=(3,))] * nPat).reshape(nPat, -1).astype(np.float32),\n",
    "                    np.hstack([np.zeros(shape=(3,))] * nPat).reshape(nPat, -1).astype(np.float32)   ]\n",
    "    \n",
    "#     pbar   = tqdm(range(1))\n",
    "\n",
    "    def callback(params, iterations, g):\n",
    "\n",
    "        pred_y = odeint(rhs, np.array([1, 1, 1] * nPat), np.linspace(0, 100, 101), tuple((params,)))\n",
    "        description = \"Iteration {:d} train loss {:.6f}\".format(\n",
    "                          iterations, np.square(true_y - pred_y).mean())\n",
    "        pbar.set_description(description)\n",
    "        pbar.update(1)\n",
    "        \n",
    "    start     = time.time()\n",
    "    optimized_params = adam(grad(loss), init_params, num_iters=1)\n",
    "    TrainCost = time.time() - start\n",
    "    \n",
    "    return ODEcost, TrainCost"
   ]
  },
  {
   "cell_type": "code",
   "execution_count": 3,
   "metadata": {},
   "outputs": [
    {
     "name": "stdout",
     "output_type": "stream",
     "text": [
      "N 1000 ODEcost 1.4888520240783691 perPax 0.0014888520240783692 TrainCost 1.38493013381958 perPax 0.0013849301338195801\n"
     ]
    }
   ],
   "source": [
    "for nPat in [1000]:\n",
    "    ODEcost, TrainCost = solveODE(nPat)\n",
    "    print('N', nPat, 'ODEcost', ODEcost, 'perPax', ODEcost / nPat, 'TrainCost', TrainCost, 'perPax', TrainCost / nPat)"
   ]
  }
 ],
 "metadata": {
  "kernelspec": {
   "display_name": "Python 3",
   "language": "python",
   "name": "python3"
  },
  "language_info": {
   "codemirror_mode": {
    "name": "ipython",
    "version": 3
   },
   "file_extension": ".py",
   "mimetype": "text/x-python",
   "name": "python",
   "nbconvert_exporter": "python",
   "pygments_lexer": "ipython3",
   "version": "3.6.4"
  }
 },
 "nbformat": 4,
 "nbformat_minor": 2
}
