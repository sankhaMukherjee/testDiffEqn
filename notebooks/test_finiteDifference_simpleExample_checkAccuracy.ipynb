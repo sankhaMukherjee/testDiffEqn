{
 "cells": [
  {
   "cell_type": "code",
   "execution_count": 1,
   "metadata": {},
   "outputs": [],
   "source": [
    "import numpy as npo\n",
    "\n",
    "import autograd.numpy as np\n",
    "from autograd import grad\n",
    "from autograd.scipy.integrate import odeint\n",
    "from autograd.builtins import tuple\n",
    "from autograd.misc.optimizers import adam\n",
    "\n",
    "import matplotlib.pyplot as plt\n",
    "from IPython import display\n",
    "%matplotlib inline  \n",
    "\n",
    "import time\n",
    "from tqdm import tqdm\n",
    "from copy import deepcopy"
   ]
  },
  {
   "cell_type": "code",
   "execution_count": 2,
   "metadata": {},
   "outputs": [],
   "source": [
    "def rhs(y, t, params): \n",
    "    params = np.array(params)\n",
    "    errors = np.square(trueParams - params).sum() / 10 \n",
    "    return -y + errors"
   ]
  },
  {
   "cell_type": "code",
   "execution_count": 3,
   "metadata": {},
   "outputs": [
    {
     "name": "stdout",
     "output_type": "stream",
     "text": [
      "trueParams: min, max 0.310220497143 0.818810926469\n",
      "len(trueParams) 3\n"
     ]
    }
   ],
   "source": [
    "trueParams = npo.random.uniform(low=-1.0, high=1.0, size=(3, ))\n",
    "print('trueParams: min, max', trueParams.min(), trueParams.max())\n",
    "print('len(trueParams)', len(trueParams))"
   ]
  },
  {
   "cell_type": "code",
   "execution_count": 4,
   "metadata": {},
   "outputs": [],
   "source": [
    "tspan      = np.linspace(0, 100, 101) / 30\n",
    "true_y     = odeint(rhs, y0=3, t=tspan, args=(trueParams, ))"
   ]
  },
  {
   "cell_type": "code",
   "execution_count": 5,
   "metadata": {},
   "outputs": [],
   "source": [
    "initParams = [0.0] * len(trueParams)\n",
    "pred_y     = odeint(rhs, y0=3, t=tspan, args=(initParams, ))"
   ]
  },
  {
   "cell_type": "code",
   "execution_count": 6,
   "metadata": {
    "scrolled": true
   },
   "outputs": [
    {
     "data": {
      "text/plain": [
       "[<matplotlib.lines.Line2D at 0x108eaf8d0>]"
      ]
     },
     "execution_count": 6,
     "metadata": {},
     "output_type": "execute_result"
    },
    {
     "data": {
      "image/png": "[encoded data removed]",
      "text/plain": [
       "<matplotlib.figure.Figure at 0x109d88f98>"
      ]
     },
     "metadata": {},
     "output_type": "display_data"
    }
   ],
   "source": [
    "plt.plot(tspan, true_y, 'b-')\n",
    "plt.plot(tspan, pred_y, 'r-')"
   ]
  },
  {
   "cell_type": "code",
   "execution_count": 7,
   "metadata": {},
   "outputs": [],
   "source": [
    "def odeloss(params, epoch):\n",
    "    pred_y = odeint(rhs, 3, tspan, tuple((params, )))\n",
    "    return np.square(true_y - pred_y).mean()"
   ]
  },
  {
   "cell_type": "code",
   "execution_count": 8,
   "metadata": {},
   "outputs": [],
   "source": [
    "def finitedifferenceLoss(params, epoch):\n",
    "    params  = np.array(params)\n",
    "    shape   = params.shape\n",
    "    epsilon = 1e-5\n",
    "    def getLoss(p):\n",
    "        pred_y = odeint(rhs, 3, tspan, tuple((p, )))\n",
    "        loss   = np.square(true_y - pred_y).mean()\n",
    "        return loss\n",
    "\n",
    "    loss_0    = getLoss(params)\n",
    "    gradients = []\n",
    "    \n",
    "    for i in range(len(params)):\n",
    "        zeroArr    = np.zeros(shape=shape)\n",
    "        zeroArr[i] = epsilon\n",
    "        gradient   = np.array((getLoss(params + zeroArr) - loss_0) /  epsilon)\n",
    "        gradients.append(gradient)\n",
    "        \n",
    "    return gradients"
   ]
  },
  {
   "cell_type": "code",
   "execution_count": 9,
   "metadata": {},
   "outputs": [
    {
     "name": "stderr",
     "output_type": "stream",
     "text": [
      "\r",
      "  0%|          | 0/2000 [00:00<?, ?it/s]"
     ]
    }
   ],
   "source": [
    "nIterations = 2000\n",
    "pbar        = tqdm(range(nIterations))\n",
    "\n",
    "def callback(params, epoch, gradients):\n",
    "    pred_y    = odeint(rhs, 3, tspan, tuple((params, )))\n",
    "    trainloss = np.square(true_y - pred_y).mean()\n",
    "    \n",
    "    params    = [round(float(p), 5) for p in params]\n",
    "    \n",
    "    pbar.set_description('trainloss: {:.5f} | params: {}'.format(trainloss, params))\n",
    "    pbar.update(1)"
   ]
  },
  {
   "cell_type": "code",
   "execution_count": 10,
   "metadata": {},
   "outputs": [
    {
     "name": "stderr",
     "output_type": "stream",
     "text": [
      "\r",
      "trainloss: 0.00297 | params: [0.08831, 0.08786, 0.08867]:   0%|          | 10/2000 [00:00<00:20, 95.74it/s]"
     ]
    },
    {
     "name": "stdout",
     "output_type": "stream",
     "text": [
      "[ 0.46099323  0.3102205   0.81881093]\n"
     ]
    },
    {
     "name": "stderr",
     "output_type": "stream",
     "text": [
      "trainloss: 0.00000 | params: [0.46018, 0.31022, 0.77906]: 100%|██████████| 2000/2000 [00:20<00:00, 96.29it/s] "
     ]
    }
   ],
   "source": [
    "print(trueParams)\n",
    "optParams  = adam(finitedifferenceLoss, initParams, num_iters=nIterations, callback=callback, step_size=0.01)"
   ]
  }
 ],
 "metadata": {
  "kernelspec": {
   "display_name": "Python 3",
   "language": "python",
   "name": "python3"
  },
  "language_info": {
   "codemirror_mode": {
    "name": "ipython",
    "version": 3
   },
   "file_extension": ".py",
   "mimetype": "text/x-python",
   "name": "python",
   "nbconvert_exporter": "python",
   "pygments_lexer": "ipython3",
   "version": "3.6.4"
  }
 },
 "nbformat": 4,
 "nbformat_minor": 2
}
