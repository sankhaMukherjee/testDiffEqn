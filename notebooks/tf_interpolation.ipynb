{
 "cells": [
  {
   "cell_type": "code",
   "execution_count": 1,
   "metadata": {},
   "outputs": [],
   "source": [
    "import tensorflow as tf\n",
    "import numpy as np"
   ]
  },
  {
   "cell_type": "code",
   "execution_count": 2,
   "metadata": {},
   "outputs": [],
   "source": [
    "def interpolate(dx_T, dy_T, x, name='interpolate' ):\n",
    "\n",
    "    with tf.variable_scope(name):\n",
    "\n",
    "        with tf.variable_scope('neighbors'):\n",
    "\n",
    "            delVals = dx_T - x\n",
    "            ind_1   = tf.argmax(tf.sign( delVals ))\n",
    "            ind_0   = ind_1 - 1\n",
    "\n",
    "        with tf.variable_scope('calculation'):\n",
    "\n",
    "            value   = tf.cond( x[0] <= dx_T[0], \n",
    "                              lambda : dy_T[:1], \n",
    "                              lambda : tf.cond( \n",
    "                                     x[0] >= dx_T[-1], \n",
    "                                     lambda : dy_T[-1:],\n",
    "                                     lambda : (dy_T[ind_0] +                \\\n",
    "                                               (dy_T[ind_1] - dy_T[ind_0])  \\\n",
    "                                               *(x-dx_T[ind_0])/            \\\n",
    "                                               (dx_T[ind_1]-dx_T[ind_0]))\n",
    "                             ))\n",
    "\n",
    "        result = tf.multiply(value[0], 1, name='y')\n",
    "\n",
    "    return result"
   ]
  },
  {
   "cell_type": "code",
   "execution_count": 3,
   "metadata": {},
   "outputs": [],
   "source": [
    "nPat     = 3\n",
    "Atimesj  = []\n",
    "Btimesj  = []\n",
    "tspan    = np.linspace(0, 100, 101)\n",
    "\n",
    "for i in range(nPat):\n",
    "    tmp_doseA, tmp_doseB   = np.zeros(shape=tspan.shape), np.zeros(shape=tspan.shape)\n",
    "\n",
    "    for trange, dose in [ ([  5, 15],    3 ),\n",
    "                          ([ 35, 50],   35 ),\n",
    "                          ([ 50, 60],    3 ),\n",
    "                          ([ 60, 75],  300 ),\n",
    "                          ([ 75, 80],  7.6 ) ]:\n",
    "        twindow            = range(trange[0], trange[1] + 1)\n",
    "        tmp_doseA[twindow] = dose\n",
    "\n",
    "    for trange, dose in [ ([  5, 15], 70   ),\n",
    "                          ([ 35, 50], 12.5 ),\n",
    "                          ([ 75, 80], 7.6  ) ]:\n",
    "        twindow            = range(trange[0], trange[1] + 1)\n",
    "        tmp_doseB[twindow] = dose   \n",
    "\n",
    "    Atimesj.append(tmp_doseA)\n",
    "    Btimesj.append(tmp_doseB)\n",
    "\n",
    "Atimesj     = np.array(Atimesj).reshape(nPat, -1)\n",
    "Btimesj     = np.array(Btimesj).reshape(nPat, -1)"
   ]
  },
  {
   "cell_type": "code",
   "execution_count": 4,
   "metadata": {},
   "outputs": [
    {
     "data": {
      "text/plain": [
       "((3, 101), (3, 101))"
      ]
     },
     "execution_count": 4,
     "metadata": {},
     "output_type": "execute_result"
    }
   ],
   "source": [
    "Atimesj.shape, Btimesj.shape"
   ]
  },
  {
   "cell_type": "code",
   "execution_count": null,
   "metadata": {},
   "outputs": [],
   "source": []
  }
 ],
 "metadata": {
  "kernelspec": {
   "display_name": "Python 3",
   "language": "python",
   "name": "python3"
  },
  "language_info": {
   "codemirror_mode": {
    "name": "ipython",
    "version": 3
   },
   "file_extension": ".py",
   "mimetype": "text/x-python",
   "name": "python",
   "nbconvert_exporter": "python",
   "pygments_lexer": "ipython3",
   "version": "3.6.0"
  }
 },
 "nbformat": 4,
 "nbformat_minor": 2
}
