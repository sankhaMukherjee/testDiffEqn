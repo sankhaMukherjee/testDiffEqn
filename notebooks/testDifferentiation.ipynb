{
 "cells": [
  {
   "cell_type": "markdown",
   "metadata": {},
   "source": [
    "We are checking the chain rule for differentialtion:\n",
    "\n",
    "Let us check the function:\n",
    "\n",
    "$$ f(x) = \\tanh( w_2 ( \\tanh (w_1 x)  ) ) $$\n",
    "\n",
    "By the chain rule, this should be solved as (we shall use the term $d$ for the differentiation function $f'(x) = 1 - tanh^2(h)$:\n",
    "\n"
   ]
  },
  {
   "cell_type": "code",
   "execution_count": 1,
   "metadata": {},
   "outputs": [],
   "source": [
    "import numpy as np"
   ]
  },
  {
   "cell_type": "markdown",
   "metadata": {},
   "source": [
    "Function composition:\n",
    "\n",
    "given a list of unary functions, can a longer function be generated?"
   ]
  },
  {
   "cell_type": "code",
   "execution_count": 29,
   "metadata": {},
   "outputs": [
    {
     "data": {
      "text/plain": [
       "0.9681102639004562"
      ]
     },
     "execution_count": 29,
     "metadata": {},
     "output_type": "execute_result"
    }
   ],
   "source": [
    "np.tan(np.sin(np.cos(0.5)))"
   ]
  },
  {
   "cell_type": "code",
   "execution_count": 14,
   "metadata": {
    "collapsed": true
   },
   "outputs": [],
   "source": [
    "from functools import reduce"
   ]
  },
  {
   "cell_type": "code",
   "execution_count": 37,
   "metadata": {},
   "outputs": [],
   "source": [
    "fns  = [np.tan, np.sin, np.cos]\n",
    "fns1 = [np.cos, np.sin, np.tan]"
   ]
  },
  {
   "cell_type": "code",
   "execution_count": 42,
   "metadata": {},
   "outputs": [
    {
     "data": {
      "text/plain": [
       "0.9681102639004562"
      ]
     },
     "execution_count": 42,
     "metadata": {},
     "output_type": "execute_result"
    }
   ],
   "source": [
    "x = reduce(  lambda f, f1: lambda m: f1(f(m)) , fns1, lambda m: m )\n",
    "x(0.5)"
   ]
  },
  {
   "cell_type": "code",
   "execution_count": 65,
   "metadata": {
    "collapsed": true
   },
   "outputs": [],
   "source": [
    "def x(n):\n",
    "    return lambda m: n*m\n",
    "\n",
    "fns = [x(5), np.tanh, x(3), np.tanh]"
   ]
  },
  {
   "cell_type": "code",
   "execution_count": 66,
   "metadata": {
    "collapsed": true
   },
   "outputs": [],
   "source": [
    "def fnAll(fnList, x, verbose=False):\n",
    "\n",
    "    result = x\n",
    "    for i, f in enumerate(fnList):\n",
    "        if verbose:\n",
    "            print('[{:05d}] --> {}'.format(i, result))\n",
    "        result = f(result)\n",
    "\n",
    "    i += 1\n",
    "    if verbose:\n",
    "        print('[{:05d}] --> {}'.format(i, result))\n",
    "    return result"
   ]
  },
  {
   "cell_type": "code",
   "execution_count": 68,
   "metadata": {},
   "outputs": [
    {
     "name": "stdout",
     "output_type": "stream",
     "text": [
      "[00000] --> 2\n",
      "[00001] --> 10\n",
      "[00002] --> 0.9999999958776927\n",
      "[00003] --> 2.9999999876330783\n",
      "[00004] --> 0.995054753564718\n"
     ]
    },
    {
     "data": {
      "text/plain": [
       "0.995054753564718"
      ]
     },
     "execution_count": 68,
     "metadata": {},
     "output_type": "execute_result"
    }
   ],
   "source": [
    "fnAll(fns, 2, verbose=True)"
   ]
  },
  {
   "cell_type": "code",
   "execution_count": 90,
   "metadata": {},
   "outputs": [],
   "source": [
    "def fdDeltaX(fnList, x):\n",
    "    deltaX = 1e-5\n",
    "    result = (fnAll(fns, fDiff, x+deltaX) - fnAll(fns, fDiff, x-deltaX))/(2*deltaX)\n",
    "    return result"
   ]
  },
  {
   "cell_type": "code",
   "execution_count": 91,
   "metadata": {},
   "outputs": [
    {
     "data": {
      "text/plain": [
       "2.6121582854310432"
      ]
     },
     "execution_count": 91,
     "metadata": {},
     "output_type": "execute_result"
    }
   ],
   "source": [
    "fdDeltaX(fns, 0.1)"
   ]
  },
  {
   "cell_type": "markdown",
   "metadata": {},
   "source": [
    "## Simulate the scalar case\n",
    "\n",
    "In this case, we shall look at the following:\n",
    "\n",
    "$$ f(x) = \\tanh( w_2 \\tanh ( w_1x ) ) $$\n",
    "\n",
    "The differentiation can be viewed as:\n",
    "\n",
    "$$ f'(x) = [1][ w_1 ][ d( w_1x ) ][ w2 ][ d( w_2 \\tanh ( w_1x ) ) ] $$\n",
    "\n",
    "Note that here,\n",
    "\n",
    "$$  d(x) = \\frac {d(\\tanh(x))} {dx} = 1 - \\tanh^2(x) $$\n",
    "\n",
    "\n",
    "Associated function lists are:\n",
    "\n",
    "```python\n",
    "fns   = [x(5), np.tanh, x(3), np.tanh]\n",
    "fDiff = [dx(5), dTanh, dx(3), dTanh]\n",
    "```"
   ]
  },
  {
   "cell_type": "code",
   "execution_count": 94,
   "metadata": {},
   "outputs": [],
   "source": [
    "def x(n):\n",
    "    return lambda m: n*m\n",
    "\n",
    "def dTanh(x):\n",
    "    return 1 - np.tanh(x)**2\n",
    "\n",
    "def dx(n):\n",
    "    return lambda m: n\n",
    "\n",
    "fns   = [x(5), np.tanh, x(3), np.tanh]\n",
    "fDiff = [dx(5), dTanh, dx(3), dTanh]"
   ]
  },
  {
   "cell_type": "code",
   "execution_count": 95,
   "metadata": {
    "collapsed": true
   },
   "outputs": [],
   "source": [
    "def fnAll(fnList, fDiff, x, verbose=False):\n",
    "\n",
    "    result  = x\n",
    "    dResult = 1\n",
    "    \n",
    "    for i, f in enumerate(fnList):\n",
    "        if verbose:\n",
    "            print('[{:05d}] --> {} {}'.format(i, result, dResult))\n",
    "        dResult *= fDiff[i]( result ) \n",
    "        result  = f(result)\n",
    "\n",
    "    i += 1\n",
    "    if verbose:\n",
    "        print('[{:05d}] --> {} {}'.format(i, result, dResult))\n",
    "    return result, dResult"
   ]
  },
  {
   "cell_type": "code",
   "execution_count": 96,
   "metadata": {},
   "outputs": [
    {
     "name": "stdout",
     "output_type": "stream",
     "text": [
      "[00000] --> 0.1 1\n",
      "[00001] --> 0.5 5\n",
      "[00002] --> 0.46211715726000974 3.932238664829637\n",
      "[00003] --> 1.3863514717800292 11.796715994488912\n",
      "[00004] --> 0.8823655878825888 2.6121582574596642\n"
     ]
    },
    {
     "data": {
      "text/plain": [
       "(0.8823655878825888, 2.6121582574596642)"
      ]
     },
     "execution_count": 96,
     "metadata": {},
     "output_type": "execute_result"
    }
   ],
   "source": [
    "fnAll(fns, fDiff, 0.1, verbose=True)"
   ]
  },
  {
   "cell_type": "markdown",
   "metadata": {},
   "source": [
    "## Simulate the vector case\n",
    "\n",
    "Remember that in this case, we are dealing with partial differential equations:\n"
   ]
  },
  {
   "cell_type": "code",
   "execution_count": 23,
   "metadata": {},
   "outputs": [],
   "source": [
    "N  = 4\n",
    "i  = 2\n",
    "\n",
    "xn  = np.random.rand(N).reshape((-1, 1))\n",
    "dxn = np.zeros(xn.shape); dxn[i, 0] = 1"
   ]
  },
  {
   "cell_type": "code",
   "execution_count": 40,
   "metadata": {},
   "outputs": [],
   "source": [
    "def V(M):\n",
    "    '''\n",
    "    M = a matrix of shape(m,n)\n",
    "    \n",
    "    Returns\n",
    "    -------\n",
    "    A function that takes a vector of\n",
    "    shape (n,1) and returns a vector \n",
    "    of shape (m,1)\n",
    "    '''\n",
    "    return lambda m: np.matmul(M, m)\n",
    "\n",
    "def dTanh(x):\n",
    "    return 1 - np.tanh(x)**2\n",
    "\n",
    "\n",
    "\n",
    "A = np.random.rand(5, 4)\n",
    "B = np.random.rand(2, 5)\n",
    "C = np.random.rand(1, 2)\n",
    "\n",
    "fns   = [(V(A), np.tanh), (V(B), np.tanh), (V(C), np.tanh)]\n",
    "fDiff = [(V(A), dTanh), (V(B), dTanh), (V(C), dTanh)]"
   ]
  },
  {
   "cell_type": "code",
   "execution_count": 41,
   "metadata": {},
   "outputs": [],
   "source": [
    "def fnAll(fnList, fDiff, xn, dxn, verbose=False):\n",
    "\n",
    "    result  = xn.copy()\n",
    "    dResult = dxn.copy()\n",
    "\n",
    "    if verbose:\n",
    "        print('[{:05d}] result: {} | {}'.format(-1, result.T, dResult.T))\n",
    "\n",
    "\n",
    "    for i, (W, a) in enumerate(fnList):\n",
    "        \n",
    "        result  = W(result)\n",
    "        \n",
    "        W1, a1  =  fDiff[i]\n",
    "        dResult =  W1(dResult)\n",
    "        dResult *= a1(result)\n",
    "        \n",
    "        \n",
    "        if verbose:\n",
    "            print('[{:05d}] result: {} | {}'.format(i, result.T, dResult.T))\n",
    "        result  = a(result)\n",
    "        if verbose:\n",
    "            print('[{:05d}] result: {} | {}'.format(i, result.T, dResult.T))\n",
    "        \n",
    "                \n",
    "    return result"
   ]
  },
  {
   "cell_type": "code",
   "execution_count": 42,
   "metadata": {},
   "outputs": [
    {
     "name": "stdout",
     "output_type": "stream",
     "text": [
      "[-0001] result: [[0.39644335 0.4235196  0.1987985  0.39992922]] | [[0. 0. 1. 0.]]\n",
      "[00000] result: [[0.69035062 1.06598603 0.85873202 0.71542908 0.5247565 ]] | [[0.15914934 0.11020659 0.47874477 0.2275865  0.67711029]]\n",
      "[00000] result: [[0.5982072  0.78794415 0.6956038  0.61406999 0.48136274]] | [[0.15914934 0.11020659 0.47874477 0.2275865  0.67711029]]\n",
      "[00001] result: [[1.88955672 1.95783325]] | [[0.07074623 0.08465793]]\n",
      "[00001] result: [[0.95533442 0.96092415]] | [[0.07074623 0.08465793]]\n",
      "[00002] result: [[0.63017194]] | [[0.03688988]]\n",
      "[00002] result: [[0.5581706]] | [[0.03688988]]\n"
     ]
    },
    {
     "data": {
      "text/plain": [
       "array([[0.5581706]])"
      ]
     },
     "execution_count": 42,
     "metadata": {},
     "output_type": "execute_result"
    }
   ],
   "source": [
    "fnAll(fns, fDiff, xn, dxn, verbose=True)"
   ]
  },
  {
   "cell_type": "code",
   "execution_count": 43,
   "metadata": {},
   "outputs": [
    {
     "data": {
      "text/plain": [
       "array([[0.03689049]])"
      ]
     },
     "execution_count": 43,
     "metadata": {},
     "output_type": "execute_result"
    }
   ],
   "source": [
    "delXn = 1e-10\n",
    "xn1 = xn.copy()\n",
    "xn1[i, 0] += delXn\n",
    "\n",
    "(fnAll(fns, fDiff, xn1, dxn) -  fnAll(fns, fDiff, xn, dxn))/delXn"
   ]
  },
  {
   "cell_type": "code",
   "execution_count": null,
   "metadata": {},
   "outputs": [],
   "source": []
  }
 ],
 "metadata": {
  "kernelspec": {
   "display_name": "Python 3",
   "language": "python",
   "name": "python3"
  },
  "language_info": {
   "codemirror_mode": {
    "name": "ipython",
    "version": 3
   },
   "file_extension": ".py",
   "mimetype": "text/x-python",
   "name": "python",
   "nbconvert_exporter": "python",
   "pygments_lexer": "ipython3",
   "version": "3.6.5"
  }
 },
 "nbformat": 4,
 "nbformat_minor": 2
}
