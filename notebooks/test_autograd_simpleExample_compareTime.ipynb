{
 "cells": [
  {
   "cell_type": "code",
   "execution_count": 1,
   "metadata": {},
   "outputs": [],
   "source": [
    "import numpy as npo\n",
    "\n",
    "import autograd.numpy as np\n",
    "from autograd import grad\n",
    "from autograd.scipy.integrate import odeint\n",
    "from autograd.builtins import tuple\n",
    "from autograd.misc.optimizers import adam\n",
    "\n",
    "import matplotlib.pyplot as plt\n",
    "from IPython import display\n",
    "%matplotlib inline  \n",
    "\n",
    "import time\n",
    "from tqdm import tqdm\n",
    "from copy import deepcopy"
   ]
  },
  {
   "cell_type": "code",
   "execution_count": 2,
   "metadata": {},
   "outputs": [],
   "source": [
    "def rhs(y, t, params): \n",
    "#     errors = np.sum([ np.square(tp - p) for tp, p in zip(trueParams, params) ])\n",
    "    params = np.array(params)\n",
    "    errors = np.square(trueParams - params).sum() / 10 \n",
    "    return -y + errors"
   ]
  },
  {
   "cell_type": "code",
   "execution_count": 3,
   "metadata": {},
   "outputs": [
    {
     "name": "stdout",
     "output_type": "stream",
     "text": [
      "trueParams: min, max -0.710367138567 0.84333151487\n",
      "len(trueParams) 10\n"
     ]
    }
   ],
   "source": [
    "trueParams = npo.random.uniform(low=-1.0, high=1.0, size=(3, ))\n",
    "print('trueParams: min, max', trueParams.min(), trueParams.max())\n",
    "print('len(trueParams)', len(trueParams))"
   ]
  },
  {
   "cell_type": "code",
   "execution_count": 4,
   "metadata": {},
   "outputs": [],
   "source": [
    "tspan      = np.linspace(0, 100, 101) / 30\n",
    "true_y     = odeint(rhs, y0=3, t=tspan, args=(trueParams, ))"
   ]
  },
  {
   "cell_type": "code",
   "execution_count": 5,
   "metadata": {},
   "outputs": [],
   "source": [
    "initParams = [0.0] * len(trueParams)\n",
    "pred_y     = odeint(rhs, y0=3, t=tspan, args=(initParams, ))"
   ]
  },
  {
   "cell_type": "code",
   "execution_count": 6,
   "metadata": {
    "scrolled": true
   },
   "outputs": [
    {
     "data": {
      "text/plain": [
       "[<matplotlib.lines.Line2D at 0x1029a0908>]"
      ]
     },
     "execution_count": 6,
     "metadata": {},
     "output_type": "execute_result"
    },
    {
     "data": {
      "image/png": "[encoded data removed]",
      "text/plain": [
       "<matplotlib.figure.Figure at 0x1071c7ef0>"
      ]
     },
     "metadata": {},
     "output_type": "display_data"
    }
   ],
   "source": [
    "plt.plot(tspan, true_y, 'b-')\n",
    "plt.plot(tspan, pred_y, 'r-')"
   ]
  },
  {
   "cell_type": "code",
   "execution_count": 7,
   "metadata": {},
   "outputs": [],
   "source": [
    "def odeloss(params, epoch):\n",
    "    pred_y = odeint(rhs, 3, tspan, tuple((params, )))\n",
    "    return np.square(true_y - pred_y).mean()"
   ]
  },
  {
   "cell_type": "code",
   "execution_count": 8,
   "metadata": {},
   "outputs": [],
   "source": [
    "odeGrad = grad(odeloss)"
   ]
  },
  {
   "cell_type": "code",
   "execution_count": 9,
   "metadata": {},
   "outputs": [
    {
     "data": {
      "text/plain": [
       "[array(0.006405807060940569),\n",
       " array(-0.04627677628072686),\n",
       " array(0.03924305993795333),\n",
       " array(0.03315028167235289),\n",
       " array(-0.012973642711600203),\n",
       " array(-0.008026884068876416),\n",
       " array(0.012718175660673972),\n",
       " array(-0.046588457417107224),\n",
       " array(0.002150858613004519),\n",
       " array(0.0010856843061786527)]"
      ]
     },
     "execution_count": 9,
     "metadata": {},
     "output_type": "execute_result"
    }
   ],
   "source": [
    "odeGrad(initParams, 0)"
   ]
  },
  {
   "cell_type": "code",
   "execution_count": 10,
   "metadata": {},
   "outputs": [],
   "source": [
    "def finitedifferenceLoss(params, epoch):\n",
    "    params  = np.array(params)\n",
    "    shape   = params.shape\n",
    "    epsilon = 1e-5\n",
    "    def getLoss(p):\n",
    "        pred_y = odeint(rhs, 3, tspan, tuple((p, )))\n",
    "        loss   = np.square(true_y - pred_y).mean()\n",
    "        return loss\n",
    "\n",
    "    loss_0    = getLoss(params)\n",
    "    gradients = []\n",
    "    \n",
    "    for i in range(len(params)):\n",
    "        zeroArr    = np.zeros(shape=shape)\n",
    "        zeroArr[i] = epsilon\n",
    "        gradient   = np.array((getLoss(params + zeroArr) - loss_0) /  epsilon)\n",
    "        gradients.append(gradient)\n",
    "        \n",
    "    return gradients"
   ]
  },
  {
   "cell_type": "code",
   "execution_count": 11,
   "metadata": {
    "scrolled": true
   },
   "outputs": [
    {
     "data": {
      "text/plain": [
       "[array(0.006406090814758957),\n",
       " array(-0.046276353723312395),\n",
       " array(0.03924346289596592),\n",
       " array(0.033150647281432466),\n",
       " array(-0.012973362895768446),\n",
       " array(-0.008026602810184968),\n",
       " array(0.012718467753275451),\n",
       " array(-0.04658803536145006),\n",
       " array(0.002151135825717576),\n",
       " array(0.0010859609579638718)]"
      ]
     },
     "execution_count": 11,
     "metadata": {},
     "output_type": "execute_result"
    }
   ],
   "source": [
    "finitedifferenceLoss(initParams, 0)"
   ]
  },
  {
   "cell_type": "code",
   "execution_count": 12,
   "metadata": {
    "scrolled": false
   },
   "outputs": [],
   "source": [
    "start             = time.time()\n",
    "optParams         = adam(grad(odeloss), initParams, num_iters=1)\n",
    "timespentAutoGrad = time.time() - start"
   ]
  },
  {
   "cell_type": "code",
   "execution_count": 13,
   "metadata": {},
   "outputs": [],
   "source": [
    "start                     = time.time()\n",
    "optParams                 = adam(finitedifferenceLoss, initParams, num_iters=1)\n",
    "timespentFiniteDifference = time.time() - start"
   ]
  },
  {
   "cell_type": "code",
   "execution_count": 14,
   "metadata": {},
   "outputs": [
    {
     "data": {
      "text/plain": [
       "(3.884550094604492, 0.025037765502929688)"
      ]
     },
     "execution_count": 14,
     "metadata": {},
     "output_type": "execute_result"
    }
   ],
   "source": [
    "timespentAutoGrad, timespentFiniteDifference"
   ]
  }
 ],
 "metadata": {
  "kernelspec": {
   "display_name": "Python 3",
   "language": "python",
   "name": "python3"
  },
  "language_info": {
   "codemirror_mode": {
    "name": "ipython",
    "version": 3
   },
   "file_extension": ".py",
   "mimetype": "text/x-python",
   "name": "python",
   "nbconvert_exporter": "python",
   "pygments_lexer": "ipython3",
   "version": "3.6.0"
  }
 },
 "nbformat": 4,
 "nbformat_minor": 2
}
