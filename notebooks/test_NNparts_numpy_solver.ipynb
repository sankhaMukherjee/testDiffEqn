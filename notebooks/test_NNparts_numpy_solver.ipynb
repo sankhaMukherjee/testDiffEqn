{
 "cells": [
  {
   "cell_type": "code",
   "execution_count": 1,
   "metadata": {},
   "outputs": [],
   "source": [
    "import os\n",
    "\n",
    "import tensorflow as tf\n",
    "import numpy as npo\n",
    "\n",
    "import autograd.numpy as np\n",
    "from autograd import grad\n",
    "from autograd.scipy.integrate import odeint\n",
    "from autograd.builtins import tuple\n",
    "from autograd.misc.optimizers import adam\n",
    "\n",
    "# from scipy.integrate import odeint\n",
    "# from scipy.interpolate import interp1d\n",
    "\n",
    "import time\n",
    "from tqdm import tqdm"
   ]
  },
  {
   "cell_type": "code",
   "execution_count": 2,
   "metadata": {},
   "outputs": [
    {
     "name": "stdout",
     "output_type": "stream",
     "text": [
      "N 10 timeCost 0.005349159240722656 per User 0.0005349159240722656\n",
      "-0.13 0.05\n"
     ]
    }
   ],
   "source": [
    "nPat        = 10\n",
    "fj          = np.hstack([np.array([12 , 7, 15 ])] * nPat).reshape(nPat, -1).astype(np.float32)\n",
    "rj          = np.hstack([np.array([6  , 3,  8 ])] * nPat).reshape(nPat, -1).astype(np.float32)\n",
    "mj          = np.hstack([np.array([10 , 17, 2 ])] * nPat).reshape(nPat, -1).astype(np.float32)\n",
    "\n",
    "def rhs(y, t, params):\n",
    "    \n",
    "    fj, rj, mj = params\n",
    "\n",
    "    Nnt      = np.array(y).reshape(nPat, -1)\n",
    "    results  = fj - rj * Nnt - mj * Nnt\n",
    "    results  = results / 100\n",
    "    results  = results.flatten()\n",
    "\n",
    "    return results\n",
    "\n",
    "params    = [fj, rj, mj]\n",
    "\n",
    "start     = time.time()\n",
    "true_y    = odeint(rhs, y0=np.array([1, 1, 1] * nPat), t=np.linspace(0, 100, 101), args=(params,))\n",
    "timeCost  = time.time() - start\n",
    "print('N', nPat, 'timeCost', timeCost, 'per User', timeCost / nPat)\n",
    "\n",
    "dy = rhs(np.array([1, 1, 1] * nPat), t=np.linspace(0, 100, 101), params=params)\n",
    "print(dy.min(), dy.max())"
   ]
  },
  {
   "cell_type": "code",
   "execution_count": 3,
   "metadata": {},
   "outputs": [],
   "source": [
    "def loss(params, iterations):\n",
    "    pred_y   = odeint(rhs, np.array([1, 1, 1] * nPat), np.linspace(0, 100, 101), tuple((params,)))\n",
    "    return np.square(true_y - pred_y).mean()"
   ]
  },
  {
   "cell_type": "code",
   "execution_count": 4,
   "metadata": {},
   "outputs": [],
   "source": [
    "lossGrad = grad(loss)"
   ]
  },
  {
   "cell_type": "code",
   "execution_count": 5,
   "metadata": {},
   "outputs": [],
   "source": [
    "init_params = [ np.hstack([np.zeros(shape=(3,))] * nPat).reshape(nPat, -1).astype(np.float32), \n",
    "                np.hstack([np.zeros(shape=(3,))] * nPat).reshape(nPat, -1).astype(np.float32),\n",
    "                np.hstack([np.zeros(shape=(3,))] * nPat).reshape(nPat, -1).astype(np.float32)   ]"
   ]
  },
  {
   "cell_type": "code",
   "execution_count": 7,
   "metadata": {},
   "outputs": [
    {
     "name": "stderr",
     "output_type": "stream",
     "text": [
      "\r",
      "  0%|          | 0/100 [00:00<?, ?it/s]"
     ]
    }
   ],
   "source": [
    "nIterations = 100\n",
    "pbar        = tqdm(range(nIterations))\n",
    "\n",
    "def callback(params, iterations, g):\n",
    "\n",
    "    pred_y = odeint(rhs, np.array([1, 1, 1] * nPat), np.linspace(0, 100, 101), tuple((params,)))\n",
    "    description = \"Iteration {:d} train loss {:.6f}\".format(\n",
    "                      iterations, np.square(true_y - pred_y).mean())\n",
    "    pbar.set_description(description)\n",
    "    pbar.update(1)"
   ]
  },
  {
   "cell_type": "code",
   "execution_count": 8,
   "metadata": {},
   "outputs": [
    {
     "name": "stderr",
     "output_type": "stream",
     "text": [
      "Iteration 99 train loss 0.034520: 100%|██████████| 100/100 [01:50<00:00,  1.09s/it]"
     ]
    },
    {
     "name": "stdout",
     "output_type": "stream",
     "text": [
      "N 10 timeCost 110.12117099761963 per User 11.012117099761962\n"
     ]
    }
   ],
   "source": [
    "start            = time.time()\n",
    "optimized_params = adam(grad(loss), init_params, num_iters=nIterations, callback=callback, step_size=0.01)\n",
    "timeCost         = time.time() - start\n",
    "print('N', nPat, 'timeCost', timeCost, 'per User', timeCost / nPat)"
   ]
  },
  {
   "cell_type": "code",
   "execution_count": 9,
   "metadata": {},
   "outputs": [
    {
     "data": {
      "text/plain": [
       "[array([[-0.10825356, -0.45906344,  0.2397624 ],\n",
       "        [-0.10825356, -0.45906344,  0.2397624 ],\n",
       "        [-0.10825356, -0.45906344,  0.2397624 ],\n",
       "        [-0.10825356, -0.45906344,  0.2397624 ],\n",
       "        [-0.10825356, -0.45906344,  0.2397624 ],\n",
       "        [-0.10825356, -0.45906344,  0.2397624 ],\n",
       "        [-0.10825356, -0.45906344,  0.2397624 ],\n",
       "        [-0.10825356, -0.45906344,  0.2397624 ],\n",
       "        [-0.10825356, -0.45906344,  0.2397624 ],\n",
       "        [-0.10825356, -0.45906344,  0.2397624 ]], dtype=float32),\n",
       " array([[ 0.15736288,  0.4554216 , -0.18560188],\n",
       "        [ 0.15736288,  0.4554216 , -0.18560188],\n",
       "        [ 0.15736288,  0.4554216 , -0.18560188],\n",
       "        [ 0.15736288,  0.4554216 , -0.18560188],\n",
       "        [ 0.15736288,  0.4554216 , -0.18560188],\n",
       "        [ 0.15736288,  0.4554216 , -0.18560188],\n",
       "        [ 0.15736288,  0.4554216 , -0.18560188],\n",
       "        [ 0.15736288,  0.4554216 , -0.18560188],\n",
       "        [ 0.15736288,  0.4554216 , -0.18560188],\n",
       "        [ 0.15736288,  0.4554216 , -0.18560188]], dtype=float32),\n",
       " array([[ 0.15736288,  0.4554216 , -0.18560188],\n",
       "        [ 0.15736288,  0.4554216 , -0.18560188],\n",
       "        [ 0.15736288,  0.4554216 , -0.18560188],\n",
       "        [ 0.15736288,  0.4554216 , -0.18560188],\n",
       "        [ 0.15736288,  0.4554216 , -0.18560188],\n",
       "        [ 0.15736288,  0.4554216 , -0.18560188],\n",
       "        [ 0.15736288,  0.4554216 , -0.18560188],\n",
       "        [ 0.15736288,  0.4554216 , -0.18560188],\n",
       "        [ 0.15736288,  0.4554216 , -0.18560188],\n",
       "        [ 0.15736288,  0.4554216 , -0.18560188]], dtype=float32)]"
      ]
     },
     "execution_count": 9,
     "metadata": {},
     "output_type": "execute_result"
    }
   ],
   "source": [
    "optimized_params"
   ]
  },
  {
   "cell_type": "code",
   "execution_count": 10,
   "metadata": {},
   "outputs": [
    {
     "data": {
      "text/plain": [
       "[array([[ 12.,   7.,  15.],\n",
       "        [ 12.,   7.,  15.],\n",
       "        [ 12.,   7.,  15.],\n",
       "        [ 12.,   7.,  15.],\n",
       "        [ 12.,   7.,  15.],\n",
       "        [ 12.,   7.,  15.],\n",
       "        [ 12.,   7.,  15.],\n",
       "        [ 12.,   7.,  15.],\n",
       "        [ 12.,   7.,  15.],\n",
       "        [ 12.,   7.,  15.]], dtype=float32), array([[ 6.,  3.,  8.],\n",
       "        [ 6.,  3.,  8.],\n",
       "        [ 6.,  3.,  8.],\n",
       "        [ 6.,  3.,  8.],\n",
       "        [ 6.,  3.,  8.],\n",
       "        [ 6.,  3.,  8.],\n",
       "        [ 6.,  3.,  8.],\n",
       "        [ 6.,  3.,  8.],\n",
       "        [ 6.,  3.,  8.],\n",
       "        [ 6.,  3.,  8.]], dtype=float32), array([[ 10.,  17.,   2.],\n",
       "        [ 10.,  17.,   2.],\n",
       "        [ 10.,  17.,   2.],\n",
       "        [ 10.,  17.,   2.],\n",
       "        [ 10.,  17.,   2.],\n",
       "        [ 10.,  17.,   2.],\n",
       "        [ 10.,  17.,   2.],\n",
       "        [ 10.,  17.,   2.],\n",
       "        [ 10.,  17.,   2.],\n",
       "        [ 10.,  17.,   2.]], dtype=float32)]"
      ]
     },
     "execution_count": 10,
     "metadata": {},
     "output_type": "execute_result"
    }
   ],
   "source": [
    "params"
   ]
  }
 ],
 "metadata": {
  "kernelspec": {
   "display_name": "Python 3",
   "language": "python",
   "name": "python3"
  },
  "language_info": {
   "codemirror_mode": {
    "name": "ipython",
    "version": 3
   },
   "file_extension": ".py",
   "mimetype": "text/x-python",
   "name": "python",
   "nbconvert_exporter": "python",
   "pygments_lexer": "ipython3",
   "version": "3.6.4"
  }
 },
 "nbformat": 4,
 "nbformat_minor": 2
}
