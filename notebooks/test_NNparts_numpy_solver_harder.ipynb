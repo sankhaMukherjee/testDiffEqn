{
 "cells": [
  {
   "cell_type": "code",
   "execution_count": 1,
   "metadata": {},
   "outputs": [],
   "source": [
    "import os\n",
    "\n",
    "import tensorflow as tf\n",
    "import numpy as npo\n",
    "\n",
    "import autograd.numpy as np\n",
    "from autograd import grad\n",
    "from autograd.scipy.integrate import odeint\n",
    "from autograd.builtins import tuple\n",
    "from autograd.misc.optimizers import adam\n",
    "\n",
    "# from scipy.integrate import odeint\n",
    "# from scipy.interpolate import interp1d\n",
    "\n",
    "import time\n",
    "from tqdm import tqdm"
   ]
  },
  {
   "cell_type": "code",
   "execution_count": 3,
   "metadata": {},
   "outputs": [
    {
     "name": "stdout",
     "output_type": "stream",
     "text": [
      "N 1 ODEcost 0.0055048465728759766 perPax 0.0055048465728759766\n",
      "-0.978799834464 3.30398774529\n",
      "[-0.01628093 -0.02005862 -0.01319117 -0.004      -0.013       0.005     ]\n"
     ]
    }
   ],
   "source": [
    "nPat        = 1\n",
    "Nnt         = 3\n",
    "fj          = np.hstack([np.array([1.2 , 0.7, 1.5 ])] * nPat).reshape(nPat, -1).astype(np.float32)\n",
    "rj          = np.hstack([np.array([0.6 , 0.3, 0.8 ])] * nPat).reshape(nPat, -1).astype(np.float32)\n",
    "mj          = np.hstack([np.array([1.0 , 1.7, 0.2 ])] * nPat).reshape(nPat, -1).astype(np.float32)\n",
    "Taus        = np.array([ 1, 1, 1 ] * nPat).reshape(nPat, -1).astype(np.float32)\n",
    "\n",
    "NNwts  = [ np.random.rand( 6, 12), \n",
    "           np.random.rand(12,  3),\n",
    "           np.random.rand( 3,  3) ]\n",
    "NNb    = [ 0.0, 1.0, -1.0 ]\n",
    "NNact  = [ np.tanh, np.tanh, np.tanh ]\n",
    "\n",
    "stress_m    = np.hstack([np.array([2.1 , 3.5, 2.4])] * nPat).reshape(nPat, -1).astype(np.float32)\n",
    "\n",
    "def rhs(y, t, params):\n",
    "\n",
    "    fj, rj, mj, NNwts, NNb, Taus = params\n",
    "\n",
    "    y         = np.array(y).reshape(nPat, -1)\n",
    "    Nnt_val   = y[:, :Nnt]\n",
    "\n",
    "    nn_inputs  = np.concatenate([Nnt_val, stress_m], axis=1)\n",
    "    for index, (w, b, a) in enumerate(zip(NNwts, NNb, NNact)):\n",
    "        nn_res    = np.dot(nn_inputs, w) + b\n",
    "        nn_res    = a(nn_res)\n",
    "        nn_inputs = nn_res\n",
    "\n",
    "    nn_res    = nn_res - y[:, Nnt:] / Taus\n",
    "\n",
    "    meds_res  = fj - rj * Nnt_val - mj * Nnt_val\n",
    "    result    = np.concatenate([nn_res, meds_res], axis=1) / 100\n",
    "    result    = result.flatten()\n",
    "\n",
    "    return result\n",
    "\n",
    "params    = [fj, rj, mj, NNwts, NNb, Taus]\n",
    "\n",
    "start     = time.time()\n",
    "true_y    = odeint(rhs, y0=np.array([1, 1, 1, 2, 2, 2] * nPat), t=np.linspace(0, 100, 101), args=(params,))\n",
    "ODEcost   = time.time() - start\n",
    "print('N', nPat, 'ODEcost', ODEcost, 'perPax', ODEcost / nPat)\n",
    "print(true_y.min(), true_y.max())\n",
    "\n",
    "print(rhs(y=np.array([1, 1, 1, 2, 2, 2] * nPat), t=np.linspace(0, 100, 101), params=params))"
   ]
  },
  {
   "cell_type": "code",
   "execution_count": 4,
   "metadata": {},
   "outputs": [],
   "source": [
    "def loss(params, iterations):\n",
    "    pred_y   = odeint(rhs, np.array([1, 1, 1, 2, 2, 2] * nPat), np.linspace(0, 100, 101), tuple((params,)))\n",
    "    return np.abs(true_y - pred_y).mean()\n",
    "\n",
    "init_params = [ np.hstack([np.zeros(shape=(3,))] * nPat).reshape(nPat, -1).astype(np.float32), \n",
    "                np.hstack([np.zeros(shape=(3,))] * nPat).reshape(nPat, -1).astype(np.float32),\n",
    "                np.hstack([np.zeros(shape=(3,))] * nPat).reshape(nPat, -1).astype(np.float32),\n",
    "                [ np.zeros(shape=(6, 12)), \n",
    "                  np.zeros(shape=(12,  3)),\n",
    "                  np.zeros(shape=( 3,  3)) ],\n",
    "               [ 0.0, 0.0, 0.0 ],\n",
    "               np.array([ 1, 1, 1 ] * nPat).reshape(nPat, -1).astype(np.float32)\n",
    "              ]"
   ]
  },
  {
   "cell_type": "code",
   "execution_count": 5,
   "metadata": {},
   "outputs": [
    {
     "data": {
      "text/plain": [
       "[array([[-0.03904702,  0.02659655, -0.05541665]], dtype=float32),\n",
       " array([[ 0.00067873, -0.02985626,  0.01361074]], dtype=float32),\n",
       " array([[ 0.00067873, -0.02985626,  0.01361074]], dtype=float32),\n",
       " [array([[ 0.,  0.,  0.,  0.,  0.,  0.,  0.,  0.,  0.,  0.,  0.,  0.],\n",
       "         [ 0.,  0.,  0.,  0.,  0.,  0.,  0.,  0.,  0.,  0.,  0.,  0.],\n",
       "         [ 0.,  0.,  0.,  0.,  0.,  0.,  0.,  0.,  0.,  0.,  0.,  0.],\n",
       "         [ 0.,  0.,  0.,  0.,  0.,  0.,  0.,  0.,  0.,  0.,  0.,  0.],\n",
       "         [ 0.,  0.,  0.,  0.,  0.,  0.,  0.,  0.,  0.,  0.,  0.,  0.],\n",
       "         [ 0.,  0.,  0.,  0.,  0.,  0.,  0.,  0.,  0.,  0.,  0.,  0.]]),\n",
       "  array([[ 0.,  0.,  0.],\n",
       "         [ 0.,  0.,  0.],\n",
       "         [ 0.,  0.,  0.],\n",
       "         [ 0.,  0.,  0.],\n",
       "         [ 0.,  0.,  0.],\n",
       "         [ 0.,  0.,  0.],\n",
       "         [ 0.,  0.,  0.],\n",
       "         [ 0.,  0.,  0.],\n",
       "         [ 0.,  0.,  0.],\n",
       "         [ 0.,  0.,  0.],\n",
       "         [ 0.,  0.,  0.],\n",
       "         [ 0.,  0.,  0.]]),\n",
       "  array([[ 0.,  0.,  0.],\n",
       "         [ 0.,  0.,  0.],\n",
       "         [ 0.,  0.,  0.]])],\n",
       " [array(0.0), array(0.0), array(-0.25000000000000017)],\n",
       " array([[-0.16666667, -0.16666667, -0.16666667]], dtype=float32)]"
      ]
     },
     "execution_count": 5,
     "metadata": {},
     "output_type": "execute_result"
    }
   ],
   "source": [
    "gradLoss = grad(loss)\n",
    "gradLoss(init_params, 0)"
   ]
  },
  {
   "cell_type": "code",
   "execution_count": 6,
   "metadata": {},
   "outputs": [
    {
     "name": "stderr",
     "output_type": "stream",
     "text": [
      "Iteration 9 train loss 0.214783: 100%|██████████| 10/10 [00:50<00:00,  5.05s/it]"
     ]
    },
    {
     "name": "stdout",
     "output_type": "stream",
     "text": [
      "N 1 TrainCost 50.25134801864624 perPax 50.25134801864624\n"
     ]
    }
   ],
   "source": [
    "pbar   = tqdm(range(10))\n",
    "\n",
    "def callback(params, iterations, g):\n",
    "\n",
    "    pred_y      = odeint(rhs, np.array([1, 1, 1, 2, 2, 2] * nPat), np.linspace(0, 100, 101), tuple((params,)))\n",
    "    trainLoss   = np.abs(true_y - pred_y).mean()\n",
    "    description = \"Iteration {:d} train loss {:.6f}\".format(\n",
    "                      iterations, trainLoss)\n",
    "    pbar.set_description(description)\n",
    "    pbar.update(1)\n",
    "\n",
    "start     = time.time()\n",
    "optimized_params = adam(grad(loss), init_params, num_iters=10, callback=callback)\n",
    "TrainCost = time.time() - start\n",
    "print('N', nPat, 'TrainCost', TrainCost, 'perPax', TrainCost / nPat)"
   ]
  }
 ],
 "metadata": {
  "kernelspec": {
   "display_name": "Python 3",
   "language": "python",
   "name": "python3"
  },
  "language_info": {
   "codemirror_mode": {
    "name": "ipython",
    "version": 3
   },
   "file_extension": ".py",
   "mimetype": "text/x-python",
   "name": "python",
   "nbconvert_exporter": "python",
   "pygments_lexer": "ipython3",
   "version": "3.6.0"
  }
 },
 "nbformat": 4,
 "nbformat_minor": 2
}
